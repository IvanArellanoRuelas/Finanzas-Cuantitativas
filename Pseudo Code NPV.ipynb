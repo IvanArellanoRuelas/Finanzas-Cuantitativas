{
 "cells": [
  {
   "cell_type": "markdown",
   "id": "5d9468e9",
   "metadata": {},
   "source": [
    "# NVP (Net Present Value) \n"
   ]
  },
  {
   "cell_type": "markdown",
   "id": "8ba0a129",
   "metadata": {},
   "source": [
    "En este cuaderno se transformara la formula NVP (Inglés) ó VPN (Español)"
   ]
  },
  {
   "cell_type": "code",
   "execution_count": 1,
   "id": "09dc3f20",
   "metadata": {},
   "outputs": [],
   "source": [
    "import numpy as np \n",
    "import numpy_financial as npf\n",
    "import pandas as pd"
   ]
  },
  {
   "cell_type": "markdown",
   "id": "b4767b5b",
   "metadata": {},
   "source": [
    "npf.npv(rate, values):\n",
    "\n",
    "**rate:** scalar \n",
    "\n",
    "The discount rate.\n",
    "\n",
    "**values:** array_like, shape(M, )\n",
    "\n",
    "The values of the time series of cash flows. The (fixed) time interval between cash flow “events” must be the same as that for which rate is given (i.e., if rate is per year, then precisely a year is understood to elapse between each cash flow event). By convention, investments or “deposits” are negative, income or “withdrawals” are positive; values must begin with the initial investment, thus values[0] will typically be negative.\n",
    "\n",
    "**Out:** float \n",
    "\n",
    "The NPV of the input cash flow series values at the discount rate."
   ]
  },
  {
   "cell_type": "code",
   "execution_count": 2,
   "id": "a9aa8c20",
   "metadata": {},
   "outputs": [],
   "source": [
    "# Ejemplo \n",
    "# Suponga que se tienen flujos del 0-5\n",
    "# Y se quiere saber el valor presente \n",
    "tasa = 0.03\n",
    "Periodo0 = -1800000\n",
    "Periodo1 = 800000\n",
    "Periodo2 = 1010000\n",
    "Periodo3 = 1220000\n",
    "Periodo4 = 1010000\n",
    "Periodo5 = 170000\n",
    "\n",
    "# El periodo 0 ya esta en valor presente por tanto no es necesario \n",
    "# traerlo a valor presente \n",
    "# Entonces generamos un array con nuestros datos del 1 al 5 \n",
    "Periodos =[Periodo0,Periodo1,Periodo2,Periodo3,Periodo4,Periodo5]\n"
   ]
  },
  {
   "cell_type": "code",
   "execution_count": 3,
   "id": "d4c3b9b8",
   "metadata": {},
   "outputs": [
    {
     "data": {
      "text/plain": [
       "2089209.1335023136"
      ]
     },
     "execution_count": 3,
     "metadata": {},
     "output_type": "execute_result"
    }
   ],
   "source": [
    "npf.npv(tasa,Periodos)"
   ]
  },
  {
   "cell_type": "markdown",
   "id": "a79a254c",
   "metadata": {},
   "source": [
    "# the Internal Rate of Return (IRR).\n",
    "\n"
   ]
  },
  {
   "attachments": {
    "image.png": {
     "image/png": "[encoded data removed]"
    }
   },
   "cell_type": "markdown",
   "id": "33ae2d43",
   "metadata": {},
   "source": [
    "npf.irr(values):\n",
    "\n",
    "\n",
    "**values:** array_like, shape(N, )\n",
    "\n",
    "Input cash flows per time period. By convention, net “deposits” are negative and net “withdrawals” are positive. Thus, for example, at least the first element of values, which represents the initial investment, will typically be negative.\n",
    "\n",
    "**Out:** float \n",
    "\n",
    "Internal Rate of Return for periodic input values.\n",
    "\n",
    "![image.png](attachment:image.png)"
   ]
  },
  {
   "cell_type": "markdown",
   "id": "27bef898",
   "metadata": {},
   "source": [
    "# Data Oil Company"
   ]
  },
  {
   "cell_type": "code",
   "execution_count": 4,
   "id": "b35d35f2",
   "metadata": {},
   "outputs": [],
   "source": [
    "data = pd.read_csv('Data_OilCompany.csv')"
   ]
  },
  {
   "cell_type": "code",
   "execution_count": 5,
   "id": "d6696d05",
   "metadata": {},
   "outputs": [],
   "source": [
    "inv = 1800000\n",
    "Price = 5\n",
    "Cost = 0.80\n",
    "fix = 40000\n",
    "r = 0.03"
   ]
  },
  {
   "cell_type": "code",
   "execution_count": 6,
   "id": "5d8a7982",
   "metadata": {
    "scrolled": true
   },
   "outputs": [
    {
     "data": {
      "text/html": [
       "<div>\n",
       "<style scoped>\n",
       "    .dataframe tbody tr th:only-of-type {\n",
       "        vertical-align: middle;\n",
       "    }\n",
       "\n",
       "    .dataframe tbody tr th {\n",
       "        vertical-align: top;\n",
       "    }\n",
       "\n",
       "    .dataframe thead th {\n",
       "        text-align: right;\n",
       "    }\n",
       "</style>\n",
       "<table border=\"1\" class=\"dataframe\">\n",
       "  <thead>\n",
       "    <tr style=\"text-align: right;\">\n",
       "      <th></th>\n",
       "      <th>Year 0</th>\n",
       "      <th>Year 1</th>\n",
       "      <th>Year 2</th>\n",
       "      <th>Year 3</th>\n",
       "      <th>Year 4</th>\n",
       "      <th>Year 5</th>\n",
       "      <th>IRR</th>\n",
       "      <th>VPN</th>\n",
       "    </tr>\n",
       "  </thead>\n",
       "  <tbody>\n",
       "    <tr>\n",
       "      <th>0</th>\n",
       "      <td>-1800000</td>\n",
       "      <td>815649.2</td>\n",
       "      <td>1135869.8</td>\n",
       "      <td>1914272.6</td>\n",
       "      <td>801869.0</td>\n",
       "      <td>364539.8</td>\n",
       "      <td>0.508144</td>\n",
       "      <td>2.841295e+06</td>\n",
       "    </tr>\n",
       "    <tr>\n",
       "      <th>1</th>\n",
       "      <td>-1800000</td>\n",
       "      <td>1068149.0</td>\n",
       "      <td>1104243.8</td>\n",
       "      <td>-30793.6</td>\n",
       "      <td>799584.2</td>\n",
       "      <td>-40000.0</td>\n",
       "      <td>0.272260</td>\n",
       "      <td>9.256289e+05</td>\n",
       "    </tr>\n",
       "    <tr>\n",
       "      <th>2</th>\n",
       "      <td>-1800000</td>\n",
       "      <td>76449.2</td>\n",
       "      <td>1366416.2</td>\n",
       "      <td>305513.0</td>\n",
       "      <td>799806.8</td>\n",
       "      <td>232823.6</td>\n",
       "      <td>0.166964</td>\n",
       "      <td>7.532422e+05</td>\n",
       "    </tr>\n",
       "    <tr>\n",
       "      <th>3</th>\n",
       "      <td>-1800000</td>\n",
       "      <td>1193964.2</td>\n",
       "      <td>842491.4</td>\n",
       "      <td>1115365.4</td>\n",
       "      <td>799722.8</td>\n",
       "      <td>-40000.0</td>\n",
       "      <td>0.435260</td>\n",
       "      <td>1.850074e+06</td>\n",
       "    </tr>\n",
       "    <tr>\n",
       "      <th>4</th>\n",
       "      <td>-1800000</td>\n",
       "      <td>1208739.8</td>\n",
       "      <td>978789.8</td>\n",
       "      <td>1909207.4</td>\n",
       "      <td>802511.6</td>\n",
       "      <td>553397.0</td>\n",
       "      <td>0.591007</td>\n",
       "      <td>3.233719e+06</td>\n",
       "    </tr>\n",
       "    <tr>\n",
       "      <th>...</th>\n",
       "      <td>...</td>\n",
       "      <td>...</td>\n",
       "      <td>...</td>\n",
       "      <td>...</td>\n",
       "      <td>...</td>\n",
       "      <td>...</td>\n",
       "      <td>...</td>\n",
       "      <td>...</td>\n",
       "    </tr>\n",
       "    <tr>\n",
       "      <th>1995</th>\n",
       "      <td>-1800000</td>\n",
       "      <td>957756.2</td>\n",
       "      <td>1095969.8</td>\n",
       "      <td>444222.2</td>\n",
       "      <td>799189.4</td>\n",
       "      <td>216414.2</td>\n",
       "      <td>0.342774</td>\n",
       "      <td>1.466194e+06</td>\n",
       "    </tr>\n",
       "    <tr>\n",
       "      <th>1996</th>\n",
       "      <td>-1800000</td>\n",
       "      <td>869421.8</td>\n",
       "      <td>1056221.0</td>\n",
       "      <td>321313.4</td>\n",
       "      <td>802142.0</td>\n",
       "      <td>-40000.0</td>\n",
       "      <td>0.267406</td>\n",
       "      <td>1.011924e+06</td>\n",
       "    </tr>\n",
       "    <tr>\n",
       "      <th>1997</th>\n",
       "      <td>-1800000</td>\n",
       "      <td>1011163.4</td>\n",
       "      <td>887784.2</td>\n",
       "      <td>1980779.6</td>\n",
       "      <td>799160.0</td>\n",
       "      <td>-29193.4</td>\n",
       "      <td>0.503767</td>\n",
       "      <td>2.516089e+06</td>\n",
       "    </tr>\n",
       "    <tr>\n",
       "      <th>1998</th>\n",
       "      <td>-1800000</td>\n",
       "      <td>1014414.2</td>\n",
       "      <td>1002171.2</td>\n",
       "      <td>1557680.0</td>\n",
       "      <td>800420.0</td>\n",
       "      <td>481677.8</td>\n",
       "      <td>0.501834</td>\n",
       "      <td>2.681671e+06</td>\n",
       "    </tr>\n",
       "    <tr>\n",
       "      <th>1999</th>\n",
       "      <td>-1800000</td>\n",
       "      <td>879833.6</td>\n",
       "      <td>1397466.8</td>\n",
       "      <td>566685.8</td>\n",
       "      <td>801012.2</td>\n",
       "      <td>-40000.0</td>\n",
       "      <td>0.379950</td>\n",
       "      <td>1.567236e+06</td>\n",
       "    </tr>\n",
       "  </tbody>\n",
       "</table>\n",
       "<p>2000 rows × 8 columns</p>\n",
       "</div>"
      ],
      "text/plain": [
       "       Year 0    Year 1      Year 2      Year 3      Year 4      Year 5    \\\n",
       "0    -1800000    815649.2   1135869.8   1914272.6    801869.0    364539.8   \n",
       "1    -1800000   1068149.0   1104243.8    -30793.6    799584.2    -40000.0   \n",
       "2    -1800000     76449.2   1366416.2    305513.0    799806.8    232823.6   \n",
       "3    -1800000   1193964.2    842491.4   1115365.4    799722.8    -40000.0   \n",
       "4    -1800000   1208739.8    978789.8   1909207.4    802511.6    553397.0   \n",
       "...       ...         ...         ...         ...         ...         ...   \n",
       "1995 -1800000    957756.2   1095969.8    444222.2    799189.4    216414.2   \n",
       "1996 -1800000    869421.8   1056221.0    321313.4    802142.0    -40000.0   \n",
       "1997 -1800000   1011163.4    887784.2   1980779.6    799160.0    -29193.4   \n",
       "1998 -1800000   1014414.2   1002171.2   1557680.0    800420.0    481677.8   \n",
       "1999 -1800000    879833.6   1397466.8    566685.8    801012.2    -40000.0   \n",
       "\n",
       "           IRR           VPN  \n",
       "0     0.508144  2.841295e+06  \n",
       "1     0.272260  9.256289e+05  \n",
       "2     0.166964  7.532422e+05  \n",
       "3     0.435260  1.850074e+06  \n",
       "4     0.591007  3.233719e+06  \n",
       "...        ...           ...  \n",
       "1995  0.342774  1.466194e+06  \n",
       "1996  0.267406  1.011924e+06  \n",
       "1997  0.503767  2.516089e+06  \n",
       "1998  0.501834  2.681671e+06  \n",
       "1999  0.379950  1.567236e+06  \n",
       "\n",
       "[2000 rows x 8 columns]"
      ]
     },
     "execution_count": 6,
     "metadata": {},
     "output_type": "execute_result"
    }
   ],
   "source": [
    "data1 = (Price-Cost)*data-fix\n",
    "data1['Year 0']=-inv\n",
    "columna = data1.pop('Year 0')\n",
    "data1.insert(0,'Year 0',columna)\n",
    "data1['IRR'] = [npf.irr(np.array(data1.iloc[i])) for i in range(0,len(data1))]\n",
    "data1['VPN'] = [npf.npv(r,np.array(data1.iloc[i,:-1])) for i in range(0,len(data1))]\n",
    "data1"
   ]
  },
  {
   "cell_type": "markdown",
   "id": "6753b260",
   "metadata": {},
   "source": [
    "- 1 What the probability that the IRR is over the Risk free rate?\n",
    "- 2 What the probability that the IRR is over the 35%?\n",
    "- 3 What the probability that the project value is over $2M?\n",
    "- 4 What’s the probability that the IRR is between 10% and 20%?"
   ]
  },
  {
   "cell_type": "code",
   "execution_count": 7,
   "id": "4b8e469e",
   "metadata": {},
   "outputs": [
    {
     "data": {
      "text/plain": [
       "0.9885"
      ]
     },
     "execution_count": 7,
     "metadata": {},
     "output_type": "execute_result"
    }
   ],
   "source": [
    "# 1 \n",
    "sum(data1['IRR']>r)/len(data1)"
   ]
  },
  {
   "cell_type": "code",
   "execution_count": 8,
   "id": "9d3eb410",
   "metadata": {},
   "outputs": [
    {
     "data": {
      "text/plain": [
       "0.5355"
      ]
     },
     "execution_count": 8,
     "metadata": {},
     "output_type": "execute_result"
    }
   ],
   "source": [
    "# 2\n",
    "sum(data1['IRR']>0.35)/len(data1)"
   ]
  },
  {
   "cell_type": "code",
   "execution_count": 9,
   "id": "48564aa8",
   "metadata": {},
   "outputs": [
    {
     "data": {
      "text/plain": [
       "0.404"
      ]
     },
     "execution_count": 9,
     "metadata": {},
     "output_type": "execute_result"
    }
   ],
   "source": [
    "# 3\n",
    "sum(data1['VPN']>2000000)/len(data1)"
   ]
  },
  {
   "cell_type": "code",
   "execution_count": 11,
   "id": "a92e7d2d",
   "metadata": {},
   "outputs": [
    {
     "data": {
      "text/plain": [
       "0.12"
      ]
     },
     "execution_count": 11,
     "metadata": {},
     "output_type": "execute_result"
    }
   ],
   "source": [
    "# 4\n",
    "contador_mayor = sum(data1['IRR']>0.20)\n",
    "contador_menor = sum(data1['IRR']<0.10)\n",
    "1-abs(contador_mayor+contador_menor)/len(data1)"
   ]
  },
  {
   "cell_type": "code",
   "execution_count": 12,
   "id": "a301e951",
   "metadata": {},
   "outputs": [],
   "source": [
    "def VPN_IRR(data,Price,Cost,fix,inv):\n",
    "    data1 = (Price-Cost)*data-fix\n",
    "    data1['Year 0']=-inv\n",
    "    columna = data1.pop('Year 0')\n",
    "    data1.insert(0,'Year 0',columna)\n",
    "    data1['IRR'] = [npf.irr(np.array(data1.iloc[i])) for i in range(0,len(data1))]\n",
    "    data1['VPN'] = [npf.npv(r,np.array(data1.iloc[i,:-1])) for i in range(0,len(data1))]\n",
    "    return data1"
   ]
  }
 ],
 "metadata": {
  "kernelspec": {
   "display_name": "Python 3 (ipykernel)",
   "language": "python",
   "name": "python3"
  },
  "language_info": {
   "codemirror_mode": {
    "name": "ipython",
    "version": 3
   },
   "file_extension": ".py",
   "mimetype": "text/x-python",
   "name": "python",
   "nbconvert_exporter": "python",
   "pygments_lexer": "ipython3",
   "version": "3.9.7"
  }
 },
 "nbformat": 4,
 "nbformat_minor": 5
}
