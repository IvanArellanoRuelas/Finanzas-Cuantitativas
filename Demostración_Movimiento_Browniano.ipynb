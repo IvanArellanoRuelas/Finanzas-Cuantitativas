{
 "cells": [
  {
   "cell_type": "markdown",
   "id": "cfb1973b",
   "metadata": {},
   "source": [
    "# Demostración Movimiento Browniano \n",
    "Iván Andrés Arellano Ruelas "
   ]
  },
  {
   "cell_type": "markdown",
   "id": "b415ea42",
   "metadata": {},
   "source": [
    "$$\\ln S_{\\Delta t} = \\ln S_o + (\\mu -\\frac{\\sigma^2}{2})\\Delta t + \\sigma \\omega_{\\Delta t}$$"
   ]
  },
  {
   "cell_type": "markdown",
   "id": "e4131b8b",
   "metadata": {},
   "source": [
    "$$\\ln S_{\\Delta t} = \\ln S_o + (\\mu -\\frac{\\sigma^2}{2})\\Delta t + \\sqrt{\\Delta t} \\omega_{\\Delta t}$$"
   ]
  },
  {
   "cell_type": "markdown",
   "id": "f134190c",
   "metadata": {},
   "source": [
    "* Para j=1"
   ]
  },
  {
   "cell_type": "markdown",
   "id": "731dfd3e",
   "metadata": {},
   "source": [
    "$$\\ln S_{\\Delta t} = \\ln S_o + \\mu_{r \\Delta t} + \\sigma \\sqrt{\\Delta t} \\omega_{\\Delta t} $$"
   ]
  },
  {
   "cell_type": "markdown",
   "id": "c9704ff6",
   "metadata": {},
   "source": [
    "* Para j=2"
   ]
  },
  {
   "cell_type": "markdown",
   "id": "04e8ee75",
   "metadata": {},
   "source": [
    "$$ \\ln S_{2\\Delta t} = \\ln S_{o\\Delta t} + \\mu_{r} 2\\Delta t + \\sigma \\sqrt{2\\Delta t} \\omega_{2\\Delta t} $$"
   ]
  },
  {
   "cell_type": "markdown",
   "id": "bbf19973",
   "metadata": {},
   "source": [
    "Sustituiyo en el delta t el paso anterior para obtener la ecuación desarollada"
   ]
  },
  {
   "cell_type": "markdown",
   "id": "38327167",
   "metadata": {},
   "source": [
    "$$ \\ln S_{2\\Delta t} = \\ln S_o + \\mu_{r \\Delta t} + \\sigma \\sqrt{\\Delta t} \\omega_{\\Delta t} + \\mu_{2r \\Delta t} + \\sigma \\sqrt{2\\Delta t} \\omega_{2\\Delta t} $$\n"
   ]
  },
  {
   "cell_type": "markdown",
   "id": "3433e289",
   "metadata": {},
   "source": [
    "$$ \\ln S_{2\\Delta t} = \\ln S_{o} + \\mu_{r} 3\\Delta t + \\sigma \\sqrt{3\\Delta t} \\omega_{3\\Delta t} $$"
   ]
  },
  {
   "cell_type": "markdown",
   "id": "8ec71ffd",
   "metadata": {},
   "source": [
    "* Para j=3"
   ]
  },
  {
   "cell_type": "markdown",
   "id": "ffa4e115",
   "metadata": {},
   "source": [
    "$$ \\ln S_{3\\Delta t} = \\ln S_o + \\mu_{r \\Delta t} + \\sigma \\sqrt{\\Delta t} \\omega_{\\Delta t} + \\mu_{3r \\Delta t} + \\sigma \\sqrt{3\\Delta t} \\omega_{3\\Delta t} $$\n"
   ]
  },
  {
   "cell_type": "markdown",
   "id": "cf5e5631",
   "metadata": {},
   "source": [
    "$$ \\ln S_{3\\Delta t} = \\ln S_{o} + \\mu_{r} 4\\Delta t + \\sigma \\sqrt{4\\Delta t} \\omega_{4\\Delta t} $$"
   ]
  },
  {
   "cell_type": "markdown",
   "id": "f879f0bb",
   "metadata": {},
   "source": [
    "* Para j=4"
   ]
  },
  {
   "cell_type": "markdown",
   "id": "90a0f463",
   "metadata": {},
   "source": [
    "$$ \\ln S_{4\\Delta t} = \\ln S_o + \\mu_{r \\Delta t} + \\sigma \\sqrt{\\Delta t} \\omega_{\\Delta t} + \\mu_{4r \\Delta t} + \\sigma \\sqrt{4\\Delta t} \\omega_{4\\Delta t} $$"
   ]
  },
  {
   "cell_type": "markdown",
   "id": "cfa8dd6e",
   "metadata": {},
   "source": [
    "$$ \\ln S_{4\\Delta t} = \\ln S_{o} + \\mu_{r} 5\\Delta t + \\sigma \\sqrt{5\\Delta t} \\omega_{5\\Delta t} $$"
   ]
  },
  {
   "cell_type": "markdown",
   "id": "15b1562e",
   "metadata": {},
   "source": [
    "* Para j = J"
   ]
  },
  {
   "cell_type": "markdown",
   "id": "dc472d9e",
   "metadata": {},
   "source": [
    "$$ \\ln S_{J\\Delta t} = \\ln S_{o} + \\mu_{r} \\Delta t(J + 1) + \\sigma \\sqrt{(J+1)\\Delta t} \\omega_{(J+1)\\Delta t} $$"
   ]
  },
  {
   "cell_type": "markdown",
   "id": "28e4bbf1",
   "metadata": {},
   "source": [
    "* Cuando J tiende a infinito "
   ]
  },
  {
   "cell_type": "markdown",
   "id": "42147345",
   "metadata": {},
   "source": [
    "A) Se inicia en t: "
   ]
  },
  {
   "cell_type": "markdown",
   "id": "bcb45e51",
   "metadata": {},
   "source": [
    "$$ \\ln S_T = \\ln S_t + \\mu_r(T-t) + \\sigma \\sqrt{T-t} \\omega_{T-t} $$"
   ]
  },
  {
   "cell_type": "markdown",
   "id": "cf83dfa0",
   "metadata": {},
   "source": [
    "Resolviendo: "
   ]
  },
  {
   "cell_type": "markdown",
   "id": "b2a150b5",
   "metadata": {},
   "source": [
    "$$ \\ln{\\big(\\frac{S_T}{S_t}\\big)} = \\mu_r (T-t)  + \\sigma\\sqrt{T-t} \\omega_{T-t}$$"
   ]
  },
  {
   "cell_type": "markdown",
   "id": "9597cf28",
   "metadata": {},
   "source": [
    "Igualando \n",
    "$\\sigma\\sqrt{T-t} \\omega_{T-t}$ = $d\\omega_{T-t}$"
   ]
  },
  {
   "cell_type": "markdown",
   "id": "7b1910d7",
   "metadata": {},
   "source": [
    "$$d\\ln S_t = \\mu_r d_t + d\\omega_t$$"
   ]
  },
  {
   "cell_type": "markdown",
   "id": "e7bea967",
   "metadata": {},
   "source": [
    "Si y solo si (T-t) tiende a 0"
   ]
  },
  {
   "cell_type": "markdown",
   "id": "d1f9d0f8",
   "metadata": {},
   "source": [
    "Se llega a la ecuacuión de movimiento Browniano Geométrico"
   ]
  }
 ],
 "metadata": {
  "kernelspec": {
   "display_name": "Python 3 (ipykernel)",
   "language": "python",
   "name": "python3"
  },
  "language_info": {
   "codemirror_mode": {
    "name": "ipython",
    "version": 3
   },
   "file_extension": ".py",
   "mimetype": "text/x-python",
   "name": "python",
   "nbconvert_exporter": "python",
   "pygments_lexer": "ipython3",
   "version": "3.9.7"
  }
 },
 "nbformat": 4,
 "nbformat_minor": 5
}
