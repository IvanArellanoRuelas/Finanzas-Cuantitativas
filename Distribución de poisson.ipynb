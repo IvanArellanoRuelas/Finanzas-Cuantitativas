{
 "cells": [
  {
   "cell_type": "markdown",
   "id": "d3eeb122",
   "metadata": {},
   "source": [
    "# Iván Andrés Arellano Ruelas"
   ]
  },
  {
   "attachments": {
    "image.png": {
     "image/png": "[encoded data removed]"
    }
   },
   "cell_type": "markdown",
   "id": "d1b05fde",
   "metadata": {},
   "source": [
    "![image.png](attachment:image.png)"
   ]
  },
  {
   "cell_type": "markdown",
   "id": "18fabd33",
   "metadata": {},
   "source": [
    "# Distribución de Poisson:"
   ]
  },
  {
   "cell_type": "markdown",
   "id": "74249464",
   "metadata": {},
   "source": [
    "\\begin{equation}\n",
    "P\\left( x \\right) = \\frac{{e^{ - \\lambda } \\lambda ^x }}{{x!}}\n",
    "\\end{equation}"
   ]
  },
  {
   "cell_type": "markdown",
   "id": "61425fb0",
   "metadata": {},
   "source": [
    "\\begin{equation}\n",
    "L(x_i,\\lambda) = \\frac{{e^{ - \\lambda } \\lambda ^{x_1} }}{{x_1!}} * \\frac{{e^{ - \\lambda } \\lambda ^{x_2} }}{{x_2!}} * \\frac{{e^{ - \\lambda } \\lambda ^{x_3} }}{{x_3!}}...\\frac{{e^{ - \\lambda } \\lambda ^{x_n} }}{{x_n!}}\n",
    "\\end{equation}"
   ]
  },
  {
   "cell_type": "markdown",
   "id": "55f31b2a",
   "metadata": {},
   "source": [
    "\\begin{equation}\n",
    "L(x_i,\\lambda) = \\prod_{i=1}^{n}\\frac{{e^{ - \\lambda } \\lambda ^{x_i} }}{{x_i!}}\n",
    "\\end{equation}"
   ]
  },
  {
   "cell_type": "markdown",
   "id": "1062ca20",
   "metadata": {},
   "source": [
    "\\begin{equation}\n",
    "L(x_i,\\lambda) = e^{ - \\lambda n }\\frac{{ \\lambda \\sum_{i=1}^{n}{x_i} }}{\\prod_{i=1}^{n}{x_i!}}\n",
    "\\end{equation}"
   ]
  },
  {
   "cell_type": "markdown",
   "id": "c86ad037",
   "metadata": {},
   "source": [
    "\\begin{equation}\n",
    "\\ln{(L(x_i,\\lambda))} = \\ln{(e^{ - \\lambda n }*\\lambda \\sum_{i=1}^{n}{x_i})} -\\ln{({\\prod_{i=1}^{n}{x_i!}})}\n",
    "\\end{equation}"
   ]
  },
  {
   "cell_type": "markdown",
   "id": "222c5b48",
   "metadata": {},
   "source": [
    "\\begin{equation}\n",
    "\\ln{(L(x_i,\\lambda))} = Z\n",
    "\\end{equation}"
   ]
  },
  {
   "cell_type": "markdown",
   "id": "b7388191",
   "metadata": {},
   "source": [
    "\\begin{equation}\n",
    "Z = -\\lambda n +\\ln{\\lambda}* \\sum_{i=1}^{n}{x_i}- \\sum_{i=1}^{n}{\\ln{x_i!}}\n",
    "\\end{equation}"
   ]
  },
  {
   "cell_type": "markdown",
   "id": "e3211a7b",
   "metadata": {},
   "source": [
    "\\begin{equation}\n",
    "\\frac{dZ}{d\\lambda} = -n+\\frac{1}{\\lambda}\\sum{i=1}^{n}x_i\n",
    "\\end{equation}"
   ]
  },
  {
   "cell_type": "markdown",
   "id": "ffda26b1",
   "metadata": {},
   "source": [
    "\\begin{equation}\n",
    "0 = -n+\\frac{1}{\\lambda}\\sum_{i=1}^{n}x_i\n",
    "\\end{equation}"
   ]
  },
  {
   "cell_type": "markdown",
   "id": "1d95202c",
   "metadata": {},
   "source": [
    "\\begin{equation}\n",
    "n = \\frac{1}{\\lambda}\\sum_{i=1}^{n}x_i\n",
    "\\end{equation}"
   ]
  },
  {
   "cell_type": "markdown",
   "id": "79996dc4",
   "metadata": {},
   "source": [
    "\\begin{equation}\n",
    "\\lambda = \\frac{1}{n}\\sum_{i=1}^{n}x_i\n",
    "\\end{equation}"
   ]
  },
  {
   "cell_type": "markdown",
   "id": "07b0cef1",
   "metadata": {},
   "source": [
    "**El mejor estimador es el Promedio**"
   ]
  }
 ],
 "metadata": {
  "kernelspec": {
   "display_name": "Python 3 (ipykernel)",
   "language": "python",
   "name": "python3"
  },
  "language_info": {
   "codemirror_mode": {
    "name": "ipython",
    "version": 3
   },
   "file_extension": ".py",
   "mimetype": "text/x-python",
   "name": "python",
   "nbconvert_exporter": "python",
   "pygments_lexer": "ipython3",
   "version": "3.9.7"
  }
 },
 "nbformat": 4,
 "nbformat_minor": 5
}
