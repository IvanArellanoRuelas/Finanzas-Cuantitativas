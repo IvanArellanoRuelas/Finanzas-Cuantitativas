{
 "cells": [
  {
   "cell_type": "code",
   "execution_count": 1,
   "id": "7e905fb0",
   "metadata": {},
   "outputs": [],
   "source": [
    "import numpy as np\n",
    "import pandas as pd \n",
    "from yahoofinancials import YahooFinancials\n",
    "import matplotlib.pyplot as plt\n",
    "\n",
    "# Download AMZN\n",
    "ticker = \"AMZN\"\n",
    "yahoo_financials = YahooFinancials(ticker)\n",
    "data = yahoo_financials.get_historical_price_data(\"2018-01-01\", \"2021-01-01\", \"daily\")\n",
    "df = pd.DataFrame(data[ticker][\"prices\"])\n",
    "\n",
    " \n",
    "\n",
    "data=pd.DataFrame(df.adjclose)\n",
    "data[\"R\"]=data.adjclose.pct_change()\n",
    "data[\"r\"]=np.log(data.adjclose)-np.log(data.adjclose.shift(1))\n",
    "a = data"
   ]
  },
  {
   "cell_type": "code",
   "execution_count": 2,
   "id": "7246b7c6",
   "metadata": {},
   "outputs": [],
   "source": [
    "import numpy as np\n",
    "import pandas as pd \n",
    "from yahoofinancials import YahooFinancials\n",
    "import matplotlib.pyplot as plt\n",
    "# Download AMZN\n",
    "yahoo_financials = YahooFinancials(ticker)\n",
    "data = yahoo_financials.get_historical_price_data(\"2014-01-01\", \"2017-01-01\", \"daily\")\n",
    "df = pd.DataFrame(data[ticker][\"prices\"])\n",
    "\n",
    " \n",
    "\n",
    "data=pd.DataFrame(df.adjclose)\n",
    "data[\"R\"]=data.adjclose.pct_change()\n",
    "data[\"r\"]=np.log(data.adjclose)-np.log(data.adjclose.shift(1))\n",
    "b = data"
   ]
  },
  {
   "cell_type": "code",
   "execution_count": 3,
   "id": "51b6a57d",
   "metadata": {},
   "outputs": [
    {
     "name": "stdout",
     "output_type": "stream",
     "text": [
      "Ho NO puede ser rechazada (SON IGUALES)\n",
      "Ho puede ser rechazada (NO SON IGUALES)\n",
      "Mean R_a\n",
      "0.001553974837366769\n",
      "Mean R_b\n",
      "0.0010408428025019706\n",
      "Left_a\n",
      "0.0013351009836400814\n",
      "Right_b\n",
      "0.0008381165957092986\n",
      "Difference\n",
      "diference: 0.000495997376970996\n"
     ]
    }
   ],
   "source": [
    "from scipy import stats\n",
    "a=a.dropna()\n",
    "b=b.dropna()\n",
    "'T-test, para probar medias'\n",
    "alfa= 0.05\n",
    "#Ho: son igual\n",
    "#Ha: No son iguales\n",
    " \n",
    "t, p = stats.ttest_ind(a.R, b.R, equal_var=True)\n",
    " \n",
    "if p<alfa:\n",
    "    print('Ho puede ser rechazada (NO SON IGUALES)')\n",
    "else:\n",
    "    print('Ho NO puede ser rechazada (SON IGUALES)')\n",
    "# como p value es mayor a alpha, Ho no puede ser rechazada\n",
    "\n",
    "\n",
    "'T-test, para probar varianzas'\n",
    "alfa= 0.05\n",
    "#Ho: son igual\n",
    "#Ha: No son iguales\n",
    " \n",
    "t, p = stats.levene(a.R, b.R)\n",
    " \n",
    "if p<alfa:\n",
    "    print('Ho puede ser rechazada (NO SON IGUALES)')\n",
    "else:\n",
    "    print('Ho NO puede ser rechazada (SON IGUALES)')\n",
    "# como p value es mayor a alpha, Ho no puede ser rechazada\n",
    "\n",
    "\n",
    "\n",
    "#k3, p3 = stats.normaltest(data.r)\n",
    "#if p3 < alfa:\n",
    "#    print(\"Ho puede ser rechazada, No es normal\") \n",
    "#else:\n",
    "#    print(\"Ho NO puede ser rechazada, es normal\")\n",
    "    \n",
    "\n",
    "\n",
    "print(\"Mean R_a\")\n",
    "print(a.R.mean())\n",
    "print(\"Mean R_b\")\n",
    "print(b.R.mean())\n",
    "print(\"Left_a\")\n",
    "print(a.R.mean()-0.5*a.R.var())\n",
    "print(\"Right_b\")\n",
    "print(b.R.mean()-0.5*b.R.var())\n",
    "print(\"Difference\")\n",
    "print(\"diference:\",a.R.mean()-0.5*a.R.var()-b.r.mean())"
   ]
  }
 ],
 "metadata": {
  "kernelspec": {
   "display_name": "Python 3 (ipykernel)",
   "language": "python",
   "name": "python3"
  },
  "language_info": {
   "codemirror_mode": {
    "name": "ipython",
    "version": 3
   },
   "file_extension": ".py",
   "mimetype": "text/x-python",
   "name": "python",
   "nbconvert_exporter": "python",
   "pygments_lexer": "ipython3",
   "version": "3.9.7"
  }
 },
 "nbformat": 4,
 "nbformat_minor": 5
}
